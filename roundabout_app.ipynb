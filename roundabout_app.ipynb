{
  "nbformat": 4,
  "nbformat_minor": 0,
  "metadata": {
    "colab": {
      "provenance": []
    },
    "kernelspec": {
      "name": "python3",
      "display_name": "Python 3"
    },
    "language_info": {
      "name": "python"
    }
  },
  "cells": [
    {
      "cell_type": "code",
      "execution_count": null,
      "metadata": {
        "id": "hcTbN3Lkh6Kb"
      },
      "outputs": [],
      "source": [
        "import osmnx as ox\n",
        "from shapely.geometry import box\n",
        "from ipyleaflet import Map, basemaps, DrawControl, LayersControl, GeoData\n",
        "from ipywidgets import Button, Output, VBox\n",
        "import pandas as pd\n",
        "from ipywidgets.embed import embed_minimal_html\n",
        "\n",
        "# Initialize the map and output\n",
        "output = Output()\n",
        "m = Map(basemap=basemaps.OpenStreetMap.Mapnik, center=(29.3117, 47.4818), zoom=10)\n",
        "m.add_control(DrawControl(rectangle={\"shapeOptions\": {\"color\": \"#0000FF\"}}))\n",
        "m.add_control(LayersControl())\n",
        "\n",
        "# Global variable to hold roundabout data\n",
        "roundabout_data = pd.DataFrame()\n",
        "\n",
        "# Functions for roundabout fetching, display, and exporting\n",
        "def fetch_and_display_roundabouts(north, south, east, west):\n",
        "    global roundabout_data\n",
        "    polygon = box(west, south, east, north)\n",
        "    tags = {'junction': 'roundabout'}\n",
        "    roundabouts = ox.features_from_polygon(polygon, tags=tags)\n",
        "    if not roundabouts.empty:\n",
        "        roundabout_data = roundabouts[['geometry']].copy()\n",
        "        roundabout_data['latitude'] = roundabout_data.geometry.centroid.y\n",
        "        roundabout_data['longitude'] = roundabout_data.geometry.centroid.x\n",
        "        geo_data = GeoData(\n",
        "            geo_dataframe=roundabouts,\n",
        "            style={'color': 'red', 'radius': 8, 'fillColor': 'red', 'opacity': 0.5, 'weight': 1.9, 'dashArray': '2', 'fillOpacity': 0.7},\n",
        "            hover_style={'fillColor': 'red', 'fillOpacity': 0.2},\n",
        "            name='Roundabouts'\n",
        "        )\n",
        "        m.add_layer(geo_data)\n",
        "        with output:\n",
        "            print(f\"Found {len(roundabouts)} roundabouts.\")\n",
        "    else:\n",
        "        with output:\n",
        "            print(\"No roundabouts found in the selected area.\")\n",
        "\n",
        "def handle_draw(target, action, geo_json):\n",
        "    if action == 'created':\n",
        "        coords = geo_json['geometry']['coordinates'][0]\n",
        "        north = max(coords, key=lambda x: x[1])[1]\n",
        "        south = min(coords, key=lambda x: x[1])[1]\n",
        "        east = max(coords, key=lambda x: x[0])[0]\n",
        "        west = min(coords, key=lambda x: x[0])[0]\n",
        "        fetch_and_display_roundabouts(north, south, east, west)\n",
        "\n",
        "def export_excel(_):\n",
        "    if not roundabout_data.empty:\n",
        "        roundabout_data.to_excel('roundabouts.xlsx', index=False)\n",
        "        with output:\n",
        "            print(\"Roundabout data exported to 'roundabouts.xlsx'.\")\n",
        "    else:\n",
        "        with output:\n",
        "            print(\"No roundabout data to export.\")\n",
        "\n",
        "def export_map_image(_):\n",
        "    with open(\"map_snapshot.html\", \"w\") as f:\n",
        "        embed_minimal_html(\"map_snapshot.html\", views=[m])\n",
        "    with output:\n",
        "        print(\"Map snapshot saved as 'map_snapshot.html'. Open it in a browser and use a screenshot tool.\")\n"
      ]
    },
    {
      "cell_type": "code",
      "source": [
        "# Attach event handlers and display controls\n",
        "draw_control = m.controls[0]\n",
        "draw_control.on_draw(handle_draw)\n",
        "\n",
        "excel_button = Button(description=\"Export Excel\", button_style=\"success\")\n",
        "excel_button.on_click(export_excel)\n",
        "\n",
        "image_button = Button(description=\"Export Map Image\", button_style=\"info\")\n",
        "image_button.on_click(export_map_image)\n",
        "\n",
        "display(VBox([m, excel_button, image_button, output]))\n"
      ],
      "metadata": {
        "id": "3goYthHdh8p-"
      },
      "execution_count": null,
      "outputs": []
    }
  ]
}